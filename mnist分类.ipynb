{
 "cells": [
  {
   "cell_type": "code",
   "execution_count": 60,
   "metadata": {},
   "outputs": [],
   "source": [
    "from pathlib import Path\n",
    "import requests\n",
    "\n",
    "DATA_PATH = Path(\"data\")\n",
    "PATH = DATA_PATH / \"mnist\"\n",
    "\n",
    "PATH.mkdir(parents=True, exist_ok=True)\n",
    "\n",
    "URL = \"http://deeplearning.net/data/mnist/\"\n",
    "FILENAME = \"mnist.pkl.gz\"\n",
    "\n",
    "if not (PATH / FILENAME).exists():\n",
    "    content = requests.get(URL + FILENAME).content\n",
    "    (PATH / FILENAME).open(\"wb\").write(content)"
   ]
  },
  {
   "cell_type": "code",
   "execution_count": 61,
   "metadata": {},
   "outputs": [],
   "source": [
    "import pickle\n",
    "import gzip\n",
    "\n",
    "with gzip.open((PATH / FILENAME).as_posix(), \"rb\") as f:\n",
    "        ((x_train, y_train), (x_valid, y_valid), _) = pickle.load(f, encoding=\"latin-1\")"
   ]
  },
  {
   "cell_type": "code",
   "execution_count": 62,
   "metadata": {},
   "outputs": [
    {
     "name": "stdout",
     "output_type": "stream",
     "text": [
      "(50000, 784)\n"
     ]
    },
    {
     "data": {
      "image/png": "[encoded data removed]",
      "text/plain": [
       "<Figure size 640x480 with 1 Axes>"
      ]
     },
     "metadata": {},
     "output_type": "display_data"
    }
   ],
   "source": [
    "from matplotlib import pyplot\n",
    "import numpy as np\n",
    "\n",
    "pyplot.imshow(x_train[0].reshape((28, 28)), cmap=\"gray\")\n",
    "print(x_train.shape)"
   ]
  },
  {
   "attachments": {},
   "cell_type": "markdown",
   "metadata": {},
   "source": [
    "将数据转换成tensor进行下一部训练"
   ]
  },
  {
   "cell_type": "code",
   "execution_count": 63,
   "metadata": {},
   "outputs": [
    {
     "name": "stdout",
     "output_type": "stream",
     "text": [
      "tensor([[0., 0., 0.,  ..., 0., 0., 0.],\n",
      "        [0., 0., 0.,  ..., 0., 0., 0.],\n",
      "        [0., 0., 0.,  ..., 0., 0., 0.],\n",
      "        ...,\n",
      "        [0., 0., 0.,  ..., 0., 0., 0.],\n",
      "        [0., 0., 0.,  ..., 0., 0., 0.],\n",
      "        [0., 0., 0.,  ..., 0., 0., 0.]]) tensor([5, 0, 4,  ..., 8, 4, 8])\n",
      "torch.Size([50000, 784])\n",
      "tensor(0) tensor(9)\n"
     ]
    }
   ],
   "source": [
    "import torch\n",
    "\n",
    "x_train, y_train, x_valid, y_valid = map(\n",
    "    torch.tensor, (x_train, y_train, x_valid, y_valid)\n",
    ")\n",
    "n, c = x_train.shape\n",
    "x_train, x_train.shape, y_train.min(), y_train.max()\n",
    "print(x_train, y_train)\n",
    "print(x_train.shape)\n",
    "print(y_train.min(), y_train.max())"
   ]
  },
  {
   "attachments": {},
   "cell_type": "markdown",
   "metadata": {},
   "source": [
    "torch.nn.functional"
   ]
  },
  {
   "cell_type": "code",
   "execution_count": 64,
   "metadata": {},
   "outputs": [],
   "source": [
    "import torch.nn.functional as F\n",
    "\n",
    "loss_func = F.cross_entropy\n",
    "\n",
    "def model(xb):\n",
    "    return xb.mm(weights) + bias"
   ]
  },
  {
   "cell_type": "code",
   "execution_count": 65,
   "metadata": {},
   "outputs": [
    {
     "name": "stdout",
     "output_type": "stream",
     "text": [
      "tensor(13.2525, grad_fn=<NllLossBackward0>)\n"
     ]
    }
   ],
   "source": [
    "batch_size = 64\n",
    "x_batch = x_train[0 : batch_size]\n",
    "y_batch = y_train[0 : batch_size]\n",
    "weights = torch.randn([784, 10], dtype=torch.float, requires_grad=True)\n",
    "bias = torch.zeros(10, requires_grad=True)\n",
    "\n",
    "print(loss_func(model(x_batch), y_batch))"
   ]
  },
  {
   "attachments": {},
   "cell_type": "markdown",
   "metadata": {},
   "source": [
    "### 创建一个model来更简化代码"
   ]
  },
  {
   "attachments": {},
   "cell_type": "markdown",
   "metadata": {},
   "source": [
    "- 必须继承nn.Module且在其构造函数中需调用nn.Module的构造函数\n",
    "- 无需写反向传播函数，nn.Module能够利用autograd自动实现反向传播\n",
    "- Module中的可学习参数可以通过named_parameters()或者parameters()返回迭代器"
   ]
  },
  {
   "cell_type": "code",
   "execution_count": 66,
   "metadata": {},
   "outputs": [],
   "source": [
    "from torch import nn\n",
    "\n",
    "class Mnist_NN(nn.Module):\n",
    "    def __init__(self):\n",
    "        super().__init__()\n",
    "        self.hidden1 = nn.Linear(784, 128)\n",
    "        self.hidden2 = nn.Linear(128, 256)\n",
    "        self.out = nn.Linear(256, 10)\n",
    "\n",
    "    def forward(self, x):\n",
    "        x = F.relu(self.hidden1(x))\n",
    "        x = F.relu(self.hidden2(x))\n",
    "        x = self.out(x)\n",
    "        return x"
   ]
  },
  {
   "cell_type": "code",
   "execution_count": 67,
   "metadata": {},
   "outputs": [
    {
     "name": "stdout",
     "output_type": "stream",
     "text": [
      "Mnist_NN(\n",
      "  (hidden1): Linear(in_features=784, out_features=128, bias=True)\n",
      "  (hidden2): Linear(in_features=128, out_features=256, bias=True)\n",
      "  (out): Linear(in_features=256, out_features=10, bias=True)\n",
      ")\n"
     ]
    }
   ],
   "source": [
    "net = Mnist_NN()\n",
    "print(net)"
   ]
  },
  {
   "attachments": {},
   "cell_type": "markdown",
   "metadata": {},
   "source": [
    "打印定义好的模型的权重和偏置"
   ]
  },
  {
   "cell_type": "code",
   "execution_count": 68,
   "metadata": {},
   "outputs": [
    {
     "name": "stdout",
     "output_type": "stream",
     "text": [
      "hidden1.weight Parameter containing:\n",
      "tensor([[-9.7687e-03,  3.3490e-02,  3.1418e-02,  ...,  7.8820e-04,\n",
      "         -3.3797e-02,  2.7085e-02],\n",
      "        [ 2.4814e-02, -2.8388e-03, -3.3557e-02,  ..., -1.2632e-02,\n",
      "          1.5439e-02,  5.1867e-05],\n",
      "        [-3.1017e-02,  1.5471e-02,  9.2429e-03,  ...,  7.8650e-03,\n",
      "          1.9177e-02, -3.4153e-02],\n",
      "        ...,\n",
      "        [-1.1203e-02, -1.9561e-02, -1.8574e-02,  ..., -2.9111e-02,\n",
      "          2.5718e-04,  1.9563e-02],\n",
      "        [ 9.0497e-03, -5.4587e-03,  1.1664e-02,  ...,  7.6353e-04,\n",
      "         -1.5564e-02, -3.2511e-02],\n",
      "        [ 1.6134e-02, -6.6140e-03, -2.3366e-02,  ..., -3.1180e-02,\n",
      "         -2.2621e-02, -1.2628e-02]], requires_grad=True) torch.Size([128, 784])\n",
      "hidden1.bias Parameter containing:\n",
      "tensor([-0.0151, -0.0043,  0.0081, -0.0332,  0.0190, -0.0005, -0.0208,  0.0327,\n",
      "         0.0331, -0.0115, -0.0305,  0.0349,  0.0121, -0.0027, -0.0204,  0.0035,\n",
      "        -0.0102,  0.0062, -0.0140, -0.0048,  0.0111, -0.0289,  0.0297, -0.0084,\n",
      "        -0.0180, -0.0225,  0.0141, -0.0117, -0.0335, -0.0159, -0.0311,  0.0159,\n",
      "        -0.0015, -0.0095, -0.0340, -0.0247,  0.0029, -0.0207,  0.0064,  0.0223,\n",
      "        -0.0276,  0.0189, -0.0261,  0.0090,  0.0283, -0.0354, -0.0246,  0.0072,\n",
      "         0.0218,  0.0307, -0.0164, -0.0201, -0.0340, -0.0025, -0.0322,  0.0253,\n",
      "         0.0313,  0.0076, -0.0025,  0.0344,  0.0206, -0.0067, -0.0298, -0.0246,\n",
      "         0.0315,  0.0168,  0.0134, -0.0057, -0.0061,  0.0221, -0.0014,  0.0114,\n",
      "        -0.0183, -0.0027, -0.0056, -0.0113,  0.0107, -0.0102, -0.0202, -0.0192,\n",
      "         0.0302,  0.0026, -0.0093,  0.0278, -0.0258, -0.0109, -0.0106, -0.0282,\n",
      "        -0.0140, -0.0002,  0.0205,  0.0299, -0.0223, -0.0098, -0.0164, -0.0153,\n",
      "         0.0303, -0.0228,  0.0141, -0.0076, -0.0327, -0.0316,  0.0173, -0.0003,\n",
      "        -0.0325,  0.0298, -0.0022, -0.0078, -0.0166,  0.0264, -0.0033, -0.0196,\n",
      "        -0.0324,  0.0220, -0.0224, -0.0193,  0.0235,  0.0165, -0.0297, -0.0254,\n",
      "         0.0228,  0.0120, -0.0178, -0.0141, -0.0067,  0.0352,  0.0212, -0.0191],\n",
      "       requires_grad=True) torch.Size([128])\n",
      "hidden2.weight Parameter containing:\n",
      "tensor([[ 0.0236, -0.0465,  0.0829,  ..., -0.0588,  0.0850,  0.0135],\n",
      "        [-0.0250,  0.0401,  0.0506,  ..., -0.0191, -0.0333,  0.0533],\n",
      "        [ 0.0102, -0.0665,  0.0159,  ...,  0.0137, -0.0287,  0.0314],\n",
      "        ...,\n",
      "        [ 0.0435, -0.0342,  0.0180,  ..., -0.0272, -0.0430,  0.0380],\n",
      "        [ 0.0288, -0.0277,  0.0179,  ...,  0.0445, -0.0744,  0.0081],\n",
      "        [ 0.0870,  0.0305,  0.0874,  ...,  0.0630,  0.0866, -0.0286]],\n",
      "       requires_grad=True) torch.Size([256, 128])\n",
      "hidden2.bias Parameter containing:\n",
      "tensor([-4.1943e-02, -5.2252e-02, -6.7422e-02, -5.2969e-02, -5.8992e-02,\n",
      "         7.5050e-02,  5.2035e-02, -2.2601e-02,  1.3231e-03, -7.8838e-02,\n",
      "        -2.9305e-02, -4.8417e-02,  5.1547e-03,  3.8715e-02, -8.4324e-02,\n",
      "         8.7696e-02, -7.0926e-02, -5.8054e-02,  6.6296e-02,  3.8936e-02,\n",
      "        -6.7591e-02, -2.0523e-03,  2.0776e-02,  8.1632e-02, -7.5632e-02,\n",
      "        -6.0406e-02, -2.4713e-02,  1.6886e-02,  4.3380e-02, -5.0602e-02,\n",
      "         4.5998e-02, -1.8240e-03, -8.6842e-02, -6.3728e-02, -5.9898e-02,\n",
      "         4.1918e-02,  6.4440e-02,  4.9161e-02, -1.7028e-02, -6.5479e-02,\n",
      "        -3.6163e-02, -7.1991e-02,  5.7593e-02, -7.9381e-02,  5.0264e-02,\n",
      "        -2.3667e-02,  5.0744e-02, -1.6557e-02, -5.8109e-02, -1.4677e-03,\n",
      "         7.2731e-02, -8.6406e-02, -8.1410e-02,  6.2044e-02,  5.4475e-02,\n",
      "        -7.4994e-03,  2.7709e-02, -1.4087e-02,  1.1670e-02,  3.0065e-02,\n",
      "         8.1726e-02,  3.2730e-02, -1.2105e-03, -2.0580e-02, -1.0934e-02,\n",
      "        -3.4265e-02, -1.2120e-02, -6.9459e-02,  5.6424e-02,  4.2533e-02,\n",
      "        -5.1945e-02, -6.5502e-02,  7.4186e-02,  1.3081e-02,  7.8404e-03,\n",
      "        -1.0061e-02,  1.4531e-02,  6.3111e-02, -3.9052e-02, -1.2609e-02,\n",
      "         7.6509e-02,  1.3454e-02, -2.4521e-02, -6.8738e-02, -3.3905e-02,\n",
      "         3.5436e-02, -4.7727e-02,  4.6132e-02, -5.5439e-02, -7.8247e-02,\n",
      "        -7.7200e-02, -4.4319e-02,  5.9693e-03,  5.5993e-02,  2.4466e-02,\n",
      "         8.7135e-02,  4.5030e-02,  6.5793e-02, -6.0024e-02,  7.5748e-02,\n",
      "         2.0643e-02,  2.9502e-02, -6.6456e-02,  2.4575e-02,  4.9173e-02,\n",
      "        -8.7919e-02,  7.4615e-02,  1.6371e-02, -5.6332e-03,  4.4565e-02,\n",
      "        -8.8219e-02, -1.7199e-02, -7.0588e-02,  8.2408e-02, -4.5518e-02,\n",
      "        -3.2052e-05,  5.7238e-02,  1.5511e-02,  5.3163e-02, -4.2974e-02,\n",
      "         7.0176e-02, -5.1305e-02,  3.1561e-02, -6.1038e-02, -5.2026e-02,\n",
      "        -1.0101e-02, -9.7015e-03, -5.8459e-02,  5.8955e-02, -7.3801e-02,\n",
      "        -4.7374e-02, -7.4931e-02,  6.6604e-02, -2.0265e-02, -6.7560e-02,\n",
      "        -5.2911e-02,  4.2109e-02,  7.1996e-02, -8.5952e-02,  6.2517e-02,\n",
      "        -2.4722e-02, -1.5170e-02, -5.7567e-02,  3.2146e-02, -3.3670e-02,\n",
      "         4.4743e-02,  6.9991e-02,  8.1394e-03,  4.6234e-02,  8.2143e-02,\n",
      "        -7.2647e-02,  1.2004e-02,  7.4237e-02, -2.8323e-02, -3.7581e-02,\n",
      "        -3.5408e-02, -4.7427e-02,  6.2350e-02, -1.7647e-02,  1.2056e-02,\n",
      "        -8.4998e-02, -2.3230e-02, -8.0102e-02, -1.6614e-02, -3.5808e-02,\n",
      "         1.8083e-02, -2.2716e-02,  5.6906e-02, -7.1434e-02, -4.9141e-02,\n",
      "         3.5797e-02, -5.8788e-02,  2.2185e-02, -9.9942e-03,  2.7112e-02,\n",
      "         2.2480e-02,  6.3627e-03,  3.7160e-02, -3.3852e-02, -2.4967e-02,\n",
      "         5.5607e-02, -8.3049e-02, -2.0468e-02, -6.2721e-02,  6.2297e-02,\n",
      "        -6.5763e-02, -1.2384e-02,  5.2119e-02, -6.6361e-02, -8.2081e-02,\n",
      "         1.2876e-02,  8.2365e-02, -7.5105e-02,  3.4920e-02,  2.9432e-02,\n",
      "        -3.3151e-03,  4.0788e-02, -7.7667e-02, -6.6165e-02, -5.8171e-02,\n",
      "         6.0268e-02,  2.8011e-02, -8.7775e-02,  7.6511e-02,  6.5012e-02,\n",
      "        -2.7706e-02,  6.8845e-03, -1.2318e-02, -2.5376e-02,  8.2642e-02,\n",
      "        -7.3375e-02,  6.1575e-02, -4.6771e-02,  7.3737e-02,  2.8608e-02,\n",
      "         7.8814e-02, -3.3820e-02, -8.1702e-02,  7.9791e-02, -7.0735e-02,\n",
      "        -1.3006e-03,  3.8325e-02, -7.9519e-02, -5.9106e-02,  7.0586e-02,\n",
      "        -2.0606e-02,  1.9415e-02,  7.5347e-03,  8.8933e-03, -8.3031e-02,\n",
      "        -4.3617e-02, -5.0561e-02, -6.0674e-02, -2.4125e-02, -5.0416e-02,\n",
      "        -1.0900e-02, -3.8725e-02,  6.6339e-02,  5.4464e-02, -4.7340e-02,\n",
      "        -7.3879e-02,  8.0215e-02, -7.1497e-02, -2.0745e-02,  7.6065e-02,\n",
      "         4.1581e-02, -2.9429e-02,  6.1074e-02, -4.5072e-03, -8.0722e-02,\n",
      "         7.6471e-03, -4.8289e-02, -7.8304e-02, -4.8376e-02,  8.0817e-02,\n",
      "         8.2208e-02], requires_grad=True) torch.Size([256])\n",
      "out.weight Parameter containing:\n",
      "tensor([[ 0.0087,  0.0013, -0.0558,  ..., -0.0384,  0.0057, -0.0457],\n",
      "        [-0.0602,  0.0158, -0.0273,  ..., -0.0437,  0.0201,  0.0107],\n",
      "        [-0.0209,  0.0457, -0.0463,  ..., -0.0440,  0.0262,  0.0491],\n",
      "        ...,\n",
      "        [-0.0069, -0.0577, -0.0111,  ..., -0.0173,  0.0575, -0.0218],\n",
      "        [-0.0425, -0.0520,  0.0409,  ..., -0.0386,  0.0144, -0.0161],\n",
      "        [-0.0292,  0.0179, -0.0496,  ..., -0.0616, -0.0605, -0.0566]],\n",
      "       requires_grad=True) torch.Size([10, 256])\n",
      "out.bias Parameter containing:\n",
      "tensor([-0.0076, -0.0535, -0.0110,  0.0617, -0.0253, -0.0021,  0.0156, -0.0363,\n",
      "         0.0214, -0.0050], requires_grad=True) torch.Size([10])\n"
     ]
    }
   ],
   "source": [
    "for name, parameter in net.named_parameters():\n",
    "    print(name, parameter, parameter.size())"
   ]
  },
  {
   "attachments": {},
   "cell_type": "markdown",
   "metadata": {},
   "source": [
    "### 使用TensorDataset和DataLoader来简化"
   ]
  },
  {
   "cell_type": "code",
   "execution_count": 69,
   "metadata": {},
   "outputs": [],
   "source": [
    "from torch.utils.data import TensorDataset\n",
    "from torch.utils.data import DataLoader\n",
    "\n",
    "train_dataset = TensorDataset(x_train, y_train)\n",
    "train_dataloader = DataLoader(train_dataset, batch_size=batch_size, shuffle=True)\n",
    "\n",
    "valid_dataset = TensorDataset(x_valid, y_valid)\n",
    "valid_dataloader = DataLoader(valid_dataset, batch_size=batch_size * 2)"
   ]
  },
  {
   "cell_type": "code",
   "execution_count": 70,
   "metadata": {},
   "outputs": [],
   "source": [
    "def get_data(train_dataset, valid_dataset, batch_size):\n",
    "    return(\n",
    "        DataLoader(train_dataset, batch_size=batch_size, shuffle=True),\n",
    "        DataLoader(valid_dataset, batch_size=batch_size * 2)\n",
    "    )"
   ]
  },
  {
   "attachments": {},
   "cell_type": "markdown",
   "metadata": {},
   "source": [
    "- 一般在训练模型时加上model.train()，这样会正常使用Batch Normalization和 Dropout\n",
    "- 测试的时候一般选择model.eval()，这样就不会使用Batch Normalization和 Dropout"
   ]
  },
  {
   "cell_type": "code",
   "execution_count": 71,
   "metadata": {},
   "outputs": [],
   "source": [
    "import numpy as np\n",
    "\n",
    "def fit(steps, model, loss_func, opt, train_dl, valid_dl):\n",
    "    for step in range(steps):\n",
    "        model.train()\n",
    "        for xb, yb in train_dl:\n",
    "            loss_batch(model, loss_func, xb, yb, opt)\n",
    "\n",
    "        model.eval()\n",
    "        with torch.no_grad():\n",
    "            losses, nums = zip(\n",
    "                *[loss_batch(model, loss_func, xb, yb) for xb, yb in valid_dl]\n",
    "            )\n",
    "        val_loss = np.sum(np.multiply(losses, nums)) / np.sum(nums)\n",
    "        print('当前step:'+str(step), '验证集损失：'+str(val_loss))"
   ]
  },
  {
   "cell_type": "code",
   "execution_count": 72,
   "metadata": {},
   "outputs": [],
   "source": [
    "from torch import optim\n",
    "def get_model():\n",
    "    model = Mnist_NN()\n",
    "    return model, optim.SGD(model.parameters(), lr=0.001)"
   ]
  },
  {
   "cell_type": "code",
   "execution_count": 73,
   "metadata": {},
   "outputs": [],
   "source": [
    "def loss_batch(model, loss_func, x_batch, y_batch, opt=None):\n",
    "    loss = loss_func(model(x_batch), y_batch)\n",
    "\n",
    "    if opt is not None:\n",
    "        loss.backward()\n",
    "        opt.step()\n",
    "        opt.zero_grad()\n",
    "\n",
    "    return loss.item(), len(x_batch)"
   ]
  },
  {
   "attachments": {},
   "cell_type": "markdown",
   "metadata": {},
   "source": [
    "三行代码训练"
   ]
  },
  {
   "cell_type": "code",
   "execution_count": 74,
   "metadata": {},
   "outputs": [
    {
     "name": "stdout",
     "output_type": "stream",
     "text": [
      "当前step:0 验证集损失：2.273840909957886\n",
      "当前step:1 验证集损失：2.2378461971282957\n",
      "当前step:2 验证集损失：2.180317672729492\n",
      "当前step:3 验证集损失：2.0869997482299807\n",
      "当前step:4 验证集损失：1.9418668437957765\n",
      "当前step:5 验证集损失：1.7389909128189087\n",
      "当前step:6 验证集损失：1.4970291734695436\n",
      "当前step:7 验证集损失：1.2587316648483275\n",
      "当前step:8 验证集损失：1.0615837144851685\n",
      "当前step:9 验证集损失：0.913150549697876\n",
      "当前step:10 验证集损失：0.8025664088249207\n",
      "当前step:11 验证集损失：0.7183412997245788\n",
      "当前step:12 验证集损失：0.653994692993164\n",
      "当前step:13 验证集损失：0.602191332435608\n",
      "当前step:14 验证集损失：0.5609250089168548\n",
      "当前step:15 验证集损失：0.5271173244476318\n",
      "当前step:16 验证集损失：0.4992374366283417\n",
      "当前step:17 验证集损失：0.475953571844101\n",
      "当前step:18 验证集损失：0.45569732608795166\n",
      "当前step:19 验证集损失：0.43864184346199037\n",
      "当前step:20 验证集损失：0.423611288356781\n",
      "当前step:21 验证集损失：0.4108819365024567\n",
      "当前step:22 验证集损失：0.3996848051786423\n",
      "当前step:23 验证集损失：0.38955236513614655\n",
      "当前step:24 验证集损失：0.3811506537437439\n"
     ]
    }
   ],
   "source": [
    "train_dataloader, valid_dataloader = get_data(train_dataset, valid_dataset, batch_size)\n",
    "model, opt = get_model()\n",
    "fit(25, model, loss_func, opt, train_dataloader, valid_dataloader)"
   ]
  }
 ],
 "metadata": {
  "kernelspec": {
   "display_name": "Python 3",
   "language": "python",
   "name": "python3"
  },
  "language_info": {
   "codemirror_mode": {
    "name": "ipython",
    "version": 3
   },
   "file_extension": ".py",
   "mimetype": "text/x-python",
   "name": "python",
   "nbconvert_exporter": "python",
   "pygments_lexer": "ipython3",
   "version": "3.8.5"
  },
  "orig_nbformat": 4
 },
 "nbformat": 4,
 "nbformat_minor": 2
}
