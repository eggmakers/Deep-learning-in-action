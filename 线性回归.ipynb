{
 "cells": [
  {
   "cell_type": "code",
   "execution_count": 16,
   "metadata": {},
   "outputs": [],
   "source": [
    "import numpy as np"
   ]
  },
  {
   "cell_type": "code",
   "execution_count": 17,
   "metadata": {},
   "outputs": [
    {
     "data": {
      "text/plain": [
       "(11, 1)"
      ]
     },
     "execution_count": 17,
     "metadata": {},
     "output_type": "execute_result"
    }
   ],
   "source": [
    "x_values = [i for i in range(11)]\n",
    "x_train = np.array(x_values, dtype=np.float32)\n",
    "x_train = x_train.reshape(-1, 1)\n",
    "x_train.shape"
   ]
  },
  {
   "cell_type": "code",
   "execution_count": 18,
   "metadata": {},
   "outputs": [
    {
     "data": {
      "text/plain": [
       "(11, 1)"
      ]
     },
     "execution_count": 18,
     "metadata": {},
     "output_type": "execute_result"
    }
   ],
   "source": [
    "y_values = [2 * i + 1 for i in x_values]\n",
    "y_train = np.array(y_values, dtype=np.float32)\n",
    "y_train = y_train.reshape(-1, 1)\n",
    "y_train.shape"
   ]
  },
  {
   "attachments": {},
   "cell_type": "markdown",
   "metadata": {},
   "source": [
    "线性回归模型"
   ]
  },
  {
   "cell_type": "code",
   "execution_count": 19,
   "metadata": {},
   "outputs": [],
   "source": [
    "import torch\n",
    "import torch.nn as nn"
   ]
  },
  {
   "cell_type": "code",
   "execution_count": 20,
   "metadata": {},
   "outputs": [],
   "source": [
    "class LinearRegressionModel(nn.Module):\n",
    "    def __init__(self, input_dim, output_dim):\n",
    "        super(LinearRegressionModel, self).__init__()\n",
    "        self.linear = nn.Linear(input_dim, output_dim)\n",
    "    \n",
    "    def forward(self, x):\n",
    "        out = self.linear(x)\n",
    "        return out"
   ]
  },
  {
   "cell_type": "code",
   "execution_count": 21,
   "metadata": {},
   "outputs": [],
   "source": [
    "input_dim = 1\n",
    "output_dim = 1\n",
    "model = LinearRegressionModel(input_dim, output_dim)"
   ]
  },
  {
   "attachments": {},
   "cell_type": "markdown",
   "metadata": {},
   "source": [
    "指定好参数和损失函数"
   ]
  },
  {
   "cell_type": "code",
   "execution_count": 22,
   "metadata": {},
   "outputs": [],
   "source": [
    "epochs = 1000\n",
    "learning_rate = 0.01\n",
    "optimizer = torch.optim.SGD(model.parameters(), lr=learning_rate)\n",
    "criterion = nn.MSELoss()"
   ]
  },
  {
   "attachments": {},
   "cell_type": "markdown",
   "metadata": {},
   "source": [
    "训练模型"
   ]
  },
  {
   "cell_type": "code",
   "execution_count": 23,
   "metadata": {},
   "outputs": [
    {
     "name": "stdout",
     "output_type": "stream",
     "text": [
      "epoch50, loss0.029223917052149773\n",
      "epoch100, loss0.016668235883116722\n",
      "epoch150, loss0.009506890550255775\n",
      "epoch200, loss0.005422367248684168\n",
      "epoch250, loss0.0030927106272429228\n",
      "epoch300, loss0.0017639586003497243\n",
      "epoch350, loss0.0010060974163934588\n",
      "epoch400, loss0.0005738442414440215\n",
      "epoch450, loss0.00032729224767535925\n",
      "epoch500, loss0.00018668231496121734\n",
      "epoch550, loss0.00010647624003468081\n",
      "epoch600, loss6.072984615457244e-05\n",
      "epoch650, loss3.463696702965535e-05\n",
      "epoch700, loss1.975598388526123e-05\n",
      "epoch750, loss1.1268376510997768e-05\n",
      "epoch800, loss6.427595053537516e-06\n",
      "epoch850, loss3.665799340524245e-06\n",
      "epoch900, loss2.0906891222693957e-06\n",
      "epoch950, loss1.1923240208489005e-06\n",
      "epoch1000, loss6.802055736443435e-07\n"
     ]
    }
   ],
   "source": [
    "for epoch in range(epochs):\n",
    "    epoch += 1\n",
    "    #转行成tensor\n",
    "    inputs = torch.from_numpy(x_train)\n",
    "    labels = torch.from_numpy(y_train)\n",
    "    #清零\n",
    "    optimizer.zero_grad()\n",
    "    #前向传播\n",
    "    outputs = model(inputs)\n",
    "    #计算损失\n",
    "    loss = criterion(outputs, labels)\n",
    "    #反向传播\n",
    "    loss.backward()\n",
    "    #更新权重参数\n",
    "    optimizer.step()\n",
    "    if epoch % 50 == 0:\n",
    "        print('epoch{}, loss{}'.format(epoch, loss.item()))"
   ]
  },
  {
   "attachments": {},
   "cell_type": "markdown",
   "metadata": {},
   "source": [
    "测试模型预测结果"
   ]
  },
  {
   "cell_type": "code",
   "execution_count": 24,
   "metadata": {},
   "outputs": [
    {
     "data": {
      "text/plain": [
       "array([[ 0.9984658],\n",
       "       [ 2.9986868],\n",
       "       [ 4.998908 ],\n",
       "       [ 6.9991283],\n",
       "       [ 8.99935  ],\n",
       "       [10.999571 ],\n",
       "       [12.999791 ],\n",
       "       [15.000012 ],\n",
       "       [17.000235 ],\n",
       "       [19.000456 ],\n",
       "       [21.000677 ]], dtype=float32)"
      ]
     },
     "execution_count": 24,
     "metadata": {},
     "output_type": "execute_result"
    }
   ],
   "source": [
    "predicted = model(torch.from_numpy(x_train).requires_grad_()).data.numpy()\n",
    "predicted"
   ]
  },
  {
   "attachments": {},
   "cell_type": "markdown",
   "metadata": {},
   "source": [
    "模型的保存和读取"
   ]
  },
  {
   "cell_type": "code",
   "execution_count": 25,
   "metadata": {},
   "outputs": [
    {
     "data": {
      "text/plain": [
       "<All keys matched successfully>"
      ]
     },
     "execution_count": 25,
     "metadata": {},
     "output_type": "execute_result"
    }
   ],
   "source": [
    "torch.save(model.state_dict(), 'model.pkl')\n",
    "model.load_state_dict(torch.load('model.pkl'))"
   ]
  },
  {
   "attachments": {},
   "cell_type": "markdown",
   "metadata": {},
   "source": [
    "使用GPU训练 </br>\n",
    "将数据和模型传到cuda即可"
   ]
  },
  {
   "cell_type": "code",
   "execution_count": 26,
   "metadata": {},
   "outputs": [
    {
     "name": "stdout",
     "output_type": "stream",
     "text": [
      "epoch50, loss3.8800945389994013e-07\n",
      "epoch100, loss2.2133296795345814e-07\n",
      "epoch150, loss1.2617310574114526e-07\n",
      "epoch200, loss7.204094032431385e-08\n",
      "epoch250, loss4.1044348364494e-08\n",
      "epoch300, loss2.341695193308624e-08\n",
      "epoch350, loss1.332116283947471e-08\n",
      "epoch400, loss7.598802476138644e-09\n",
      "epoch450, loss4.336075942745765e-09\n",
      "epoch500, loss2.488139916323462e-09\n",
      "epoch550, loss1.4198714426427728e-09\n",
      "epoch600, loss8.192170275478361e-10\n",
      "epoch650, loss4.763662797557799e-10\n",
      "epoch700, loss2.7824853532365523e-10\n",
      "epoch750, loss1.6087495224859083e-10\n",
      "epoch800, loss8.84121872934962e-11\n",
      "epoch850, loss5.952313641977014e-11\n",
      "epoch900, loss3.59537850880276e-11\n",
      "epoch950, loss1.956576393957743e-11\n",
      "epoch1000, loss1.565551854820768e-11\n"
     ]
    }
   ],
   "source": [
    "device = torch.device(\"cuda:0\" if torch.cuda.is_available() else \"cpu\")\n",
    "model.to(device)\n",
    "\n",
    "for epoch in range(epochs):\n",
    "    epoch += 1\n",
    "    #转行成tensor\n",
    "    inputs = torch.from_numpy(x_train).to(device)\n",
    "    labels = torch.from_numpy(y_train).to(device)\n",
    "    #清零\n",
    "    optimizer.zero_grad()\n",
    "    #前向传播\n",
    "    outputs = model(inputs)\n",
    "    #计算损失\n",
    "    loss = criterion(outputs, labels)\n",
    "    #反向传播\n",
    "    loss.backward()\n",
    "    #更新权重参数\n",
    "    optimizer.step()\n",
    "    if epoch % 50 == 0:\n",
    "        print('epoch{}, loss{}'.format(epoch, loss.item()))"
   ]
  }
 ],
 "metadata": {
  "kernelspec": {
   "display_name": "Python 3",
   "language": "python",
   "name": "python3"
  },
  "language_info": {
   "codemirror_mode": {
    "name": "ipython",
    "version": 3
   },
   "file_extension": ".py",
   "mimetype": "text/x-python",
   "name": "python",
   "nbconvert_exporter": "python",
   "pygments_lexer": "ipython3",
   "version": "3.8.5"
  },
  "orig_nbformat": 4
 },
 "nbformat": 4,
 "nbformat_minor": 2
}
